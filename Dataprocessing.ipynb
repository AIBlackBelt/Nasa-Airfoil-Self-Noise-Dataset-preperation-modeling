{
 "cells": [
  {
   "cell_type": "markdown",
   "metadata": {},
   "source": [
    "First we import all the necessary packages, and the input data from the ML repo"
   ]
  },
  {
   "cell_type": "code",
   "execution_count": 18,
   "metadata": {},
   "outputs": [
    {
     "name": "stdout",
     "output_type": "stream",
     "text": [
      "         800\\t0\\t0.3048\\t71.3\\t0.00266337\\t126.201\n",
      "0       1000\\t0\\t0.3048\\t71.3\\t0.00266337\\t125.201\n",
      "1       1250\\t0\\t0.3048\\t71.3\\t0.00266337\\t125.951\n",
      "2       1600\\t0\\t0.3048\\t71.3\\t0.00266337\\t127.591\n",
      "3       2000\\t0\\t0.3048\\t71.3\\t0.00266337\\t127.461\n",
      "4       2500\\t0\\t0.3048\\t71.3\\t0.00266337\\t125.571\n",
      "...                                            ...\n",
      "1497  2500\\t15.6\\t0.1016\\t39.6\\t0.0528487\\t110.264\n",
      "1498  3150\\t15.6\\t0.1016\\t39.6\\t0.0528487\\t109.254\n",
      "1499  4000\\t15.6\\t0.1016\\t39.6\\t0.0528487\\t106.604\n",
      "1500  5000\\t15.6\\t0.1016\\t39.6\\t0.0528487\\t106.224\n",
      "1501  6300\\t15.6\\t0.1016\\t39.6\\t0.0528487\\t104.204\n",
      "\n",
      "[1502 rows x 1 columns]\n"
     ]
    }
   ],
   "source": [
    "from pandas import read_csv\n",
    "import pandas as pd\n",
    "from sklearn.model_selection import train_test_split\n",
    "from sklearn.preprocessing import MinMaxScaler\n",
    "import numpy as np\n",
    "from sklearn.decomposition import PCA\n",
    "import matplotlib.pyplot as plt\n",
    "\n",
    "# Edit this line of code according to your path relative to the file airfoil_self_noise.csv\n",
    "url = \"/home/dark/Mywork/Nasa dataset preprocessing/Brut data/airfoil_self_noise.csv\"\n",
    "data = read_csv(url)\n",
    "print(data)"
   ]
  },
  {
   "cell_type": "markdown",
   "metadata": {},
   "source": [
    "Then we introduce all of the variables including the features and the independent variable, we resize the dataframe as well, and initialize it according to the values of the first row"
   ]
  },
  {
   "cell_type": "code",
   "execution_count": 19,
   "metadata": {},
   "outputs": [
    {
     "name": "stdout",
     "output_type": "stream",
     "text": [
      "         800\\t0\\t0.3048\\t71.3\\t0.00266337\\t126.201  Frequency  \\\n",
      "0       1000\\t0\\t0.3048\\t71.3\\t0.00266337\\t125.201        800   \n",
      "1       1250\\t0\\t0.3048\\t71.3\\t0.00266337\\t125.951        800   \n",
      "2       1600\\t0\\t0.3048\\t71.3\\t0.00266337\\t127.591        800   \n",
      "3       2000\\t0\\t0.3048\\t71.3\\t0.00266337\\t127.461        800   \n",
      "4       2500\\t0\\t0.3048\\t71.3\\t0.00266337\\t125.571        800   \n",
      "...                                            ...        ...   \n",
      "1498  3150\\t15.6\\t0.1016\\t39.6\\t0.0528487\\t109.254        800   \n",
      "1499  4000\\t15.6\\t0.1016\\t39.6\\t0.0528487\\t106.604        800   \n",
      "1500  5000\\t15.6\\t0.1016\\t39.6\\t0.0528487\\t106.224        800   \n",
      "1501  6300\\t15.6\\t0.1016\\t39.6\\t0.0528487\\t104.204        800   \n",
      "1502                                             1        800   \n",
      "\n",
      "      Angle of attack  Chord length  Free-stream velocity  \\\n",
      "0                   0        0.3048                  71.3   \n",
      "1                   0        0.3048                  71.3   \n",
      "2                   0        0.3048                  71.3   \n",
      "3                   0        0.3048                  71.3   \n",
      "4                   0        0.3048                  71.3   \n",
      "...               ...           ...                   ...   \n",
      "1498                0        0.3048                  71.3   \n",
      "1499                0        0.3048                  71.3   \n",
      "1500                0        0.3048                  71.3   \n",
      "1501                0        0.3048                  71.3   \n",
      "1502                0        0.3048                  71.3   \n",
      "\n",
      "      Section side displacement thickness  Scaled sound pressure level  \n",
      "0                                0.002663                      126.201  \n",
      "1                                0.002663                      126.201  \n",
      "2                                0.002663                      126.201  \n",
      "3                                0.002663                      126.201  \n",
      "4                                0.002663                      126.201  \n",
      "...                                   ...                          ...  \n",
      "1498                             0.002663                      126.201  \n",
      "1499                             0.002663                      126.201  \n",
      "1500                             0.002663                      126.201  \n",
      "1501                             0.002663                      126.201  \n",
      "1502                             0.002663                      126.201  \n",
      "\n",
      "[1503 rows x 7 columns]\n"
     ]
    }
   ],
   "source": [
    "data = data.append({\"800\\t0\\t0.3048\\t71.3\\t0.00266337\\t126.201\":1}, ignore_index = True)\n",
    "data[\"Frequency\"] = [800]*1503\n",
    "data[\"Angle of attack\"] = [0]*1503\n",
    "data[\"Chord length\"] = [0.3048]*1503\n",
    "data[\"Free-stream velocity\"] = [71.3]*1503\n",
    "data[\"Section side displacement thickness\"] = [0.00266337]*1503\n",
    "data[\"Scaled sound pressure level\"] = [126.201]*1503\n",
    "print(data)"
   ]
  },
  {
   "cell_type": "markdown",
   "metadata": {},
   "source": [
    "We write a procedure to extract only the feature values from 800\\t0\\t0.3048\\t71.3\\t0.00266337\\t126.201."
   ]
  },
  {
   "cell_type": "code",
   "execution_count": 20,
   "metadata": {},
   "outputs": [],
   "source": [
    "def extractintell(string):\n",
    "    g = 0 \n",
    "    list = []\n",
    "    for i in range(0,len(string)):\n",
    "        if string[i] == \"\\t\":\n",
    "            list = list + [string[g:i]]\n",
    "            g = i + 1\n",
    "            \n",
    "        if i == len(string)-1:\n",
    "            list = list + [string[g:i+1]]\n",
    "            #g = i + 1\n",
    "            #print(\"ca rentre\")\n",
    "    return list\n",
    "            \n",
    "           "
   ]
  },
  {
   "cell_type": "markdown",
   "metadata": {},
   "source": [
    "we apply the procedure to all the rows in the column \"800\\t0\\t0.3048\\t71.3\\t0.00266337\\t126.201\", we basically have 1503 rows, therefore we extract 'Frequency',Angle of attack,Chord length,Free-stream velocity,Section side displacement thickness,Scaled sound pressure level for all 1503 records, then we append every feature value to its corresponding row and column."
   ]
  },
  {
   "cell_type": "code",
   "execution_count": 21,
   "metadata": {},
   "outputs": [],
   "source": [
    "for i in range(0,1502):\n",
    "    extracted_data = extractintell(data.iloc[i][\"800\\t0\\t0.3048\\t71.3\\t0.00266337\\t126.201\"])\n",
    "    data.iloc[i+1,data.columns.get_loc('Frequency')] = float(extracted_data[0])\n",
    "    data.iloc[i+1,data.columns.get_loc(\"Angle of attack\")] = float(extracted_data[1])\n",
    "    data.iloc[i+1,data.columns.get_loc(\"Chord length\")] = float(extracted_data[2])\n",
    "    data.iloc[i+1,data.columns.get_loc(\"Free-stream velocity\")] = float(extracted_data[3])\n",
    "    data.iloc[i+1,data.columns.get_loc(\"Section side displacement thickness\")] = float(extracted_data[4])\n",
    "    data.iloc[i+1,data.columns.get_loc(\"Scaled sound pressure level\")] = float(extracted_data[5])\n",
    "    \n",
    "    "
   ]
  },
  {
   "cell_type": "markdown",
   "metadata": {},
   "source": [
    "Then we delete the first column, since we finished processing all of it. The data looks tidy as of now, we will follow up with a couple processing steps"
   ]
  },
  {
   "cell_type": "code",
   "execution_count": 22,
   "metadata": {},
   "outputs": [
    {
     "name": "stdout",
     "output_type": "stream",
     "text": [
      "      Frequency  Angle of attack  Chord length  Free-stream velocity  \\\n",
      "0         800.0              0.0        0.3048                  71.3   \n",
      "1        1000.0              0.0        0.3048                  71.3   \n",
      "2        1250.0              0.0        0.3048                  71.3   \n",
      "3        1600.0              0.0        0.3048                  71.3   \n",
      "4        2000.0              0.0        0.3048                  71.3   \n",
      "...         ...              ...           ...                   ...   \n",
      "1498     2500.0             15.6        0.1016                  39.6   \n",
      "1499     3150.0             15.6        0.1016                  39.6   \n",
      "1500     4000.0             15.6        0.1016                  39.6   \n",
      "1501     5000.0             15.6        0.1016                  39.6   \n",
      "1502     6300.0             15.6        0.1016                  39.6   \n",
      "\n",
      "      Section side displacement thickness  Scaled sound pressure level  \n",
      "0                                0.002663                      126.201  \n",
      "1                                0.002663                      125.201  \n",
      "2                                0.002663                      125.951  \n",
      "3                                0.002663                      127.591  \n",
      "4                                0.002663                      127.461  \n",
      "...                                   ...                          ...  \n",
      "1498                             0.052849                      110.264  \n",
      "1499                             0.052849                      109.254  \n",
      "1500                             0.052849                      106.604  \n",
      "1501                             0.052849                      106.224  \n",
      "1502                             0.052849                      104.204  \n",
      "\n",
      "[1503 rows x 6 columns]\n"
     ]
    }
   ],
   "source": [
    "del data[\"800\\t0\\t0.3048\\t71.3\\t0.00266337\\t126.201\"]\n",
    "print(data)"
   ]
  },
  {
   "cell_type": "code",
   "execution_count": null,
   "metadata": {},
   "outputs": [],
   "source": [
    "We notice a relatively strong corrolation between the feature Angle of attack,Section side displacement thickness."
   ]
  },
  {
   "cell_type": "code",
   "execution_count": 40,
   "metadata": {},
   "outputs": [
    {
     "name": "stdout",
     "output_type": "stream",
     "text": [
      "                                     Frequency  Angle of attack  Chord length  \\\n",
      "Frequency                             1.000000        -0.272765     -0.003661   \n",
      "Angle of attack                      -0.272765         1.000000     -0.504868   \n",
      "Chord length                         -0.003661        -0.504868      1.000000   \n",
      "Free-stream velocity                  0.133664         0.058760      0.003787   \n",
      "Section side displacement thickness  -0.230107         0.753394     -0.220842   \n",
      "Scaled sound pressure level          -0.390711        -0.156108     -0.236162   \n",
      "\n",
      "                                     Free-stream velocity  \\\n",
      "Frequency                                        0.133664   \n",
      "Angle of attack                                  0.058760   \n",
      "Chord length                                     0.003787   \n",
      "Free-stream velocity                             1.000000   \n",
      "Section side displacement thickness             -0.003974   \n",
      "Scaled sound pressure level                      0.125103   \n",
      "\n",
      "                                     Section side displacement thickness  \\\n",
      "Frequency                                                      -0.230107   \n",
      "Angle of attack                                                 0.753394   \n",
      "Chord length                                                   -0.220842   \n",
      "Free-stream velocity                                           -0.003974   \n",
      "Section side displacement thickness                             1.000000   \n",
      "Scaled sound pressure level                                    -0.312670   \n",
      "\n",
      "                                     Scaled sound pressure level  \n",
      "Frequency                                              -0.390711  \n",
      "Angle of attack                                        -0.156108  \n",
      "Chord length                                           -0.236162  \n",
      "Free-stream velocity                                    0.125103  \n",
      "Section side displacement thickness                    -0.312670  \n",
      "Scaled sound pressure level                             1.000000  \n"
     ]
    }
   ],
   "source": [
    "print(data.corr())"
   ]
  },
  {
   "cell_type": "markdown",
   "metadata": {},
   "source": [
    "We apply a dimension reduction technique to replace the feature Angle of attack, Section side displacement thickness by one a principle component that best represents than, as it's clear,this new compoenent explains almost all variance of these two features and best represents them, it would make sense to omit these two feature and introduce the principle component instead."
   ]
  },
  {
   "cell_type": "code",
   "execution_count": 24,
   "metadata": {},
   "outputs": [
    {
     "name": "stdout",
     "output_type": "stream",
     "text": [
      "variance explained :  [0.99999787]\n"
     ]
    }
   ],
   "source": [
    "pca = PCA(n_components=1)\n",
    "pca.fit(np.array(data[[\"Angle of attack\",\"Section side displacement thickness\"]]))\n",
    "print(\"variance explained : \",pca.explained_variance_ratio_)\n",
    "\n",
    "y = pca.transform(np.array(data[[\"Angle of attack\",\"Section side displacement thickness\"]]))\n",
    "new_component = pd.DataFrame(y)\n",
    "new_component = new_component.rename(columns={0: 'New component'})\n",
    "data[\"New component\"] = new_component \n",
    "del data[\"Angle of attack\"]\n",
    "del data[\"Section side displacement thickness\"]"
   ]
  },
  {
   "cell_type": "markdown",
   "metadata": {},
   "source": [
    "As we can see the component omitted some of the colinearity."
   ]
  },
  {
   "cell_type": "code",
   "execution_count": 46,
   "metadata": {},
   "outputs": [
    {
     "name": "stdout",
     "output_type": "stream",
     "text": [
      "                             Frequency  Chord length  Free-stream velocity  \\\n",
      "Frequency                     1.000000     -0.003661              0.133664   \n",
      "Chord length                 -0.003661      1.000000              0.003787   \n",
      "Free-stream velocity          0.133664      0.003787              1.000000   \n",
      "Scaled sound pressure level  -0.390711     -0.236162              0.125103   \n",
      "New component                -0.272765     -0.504868              0.058759   \n",
      "\n",
      "                             Scaled sound pressure level  New component  \n",
      "Frequency                                      -0.390711      -0.272765  \n",
      "Chord length                                   -0.236162      -0.504868  \n",
      "Free-stream velocity                            0.125103       0.058759  \n",
      "Scaled sound pressure level                     1.000000      -0.156108  \n",
      "New component                                  -0.156108       1.000000  \n"
     ]
    }
   ],
   "source": [
    "print(data.corr())"
   ]
  },
  {
   "cell_type": "markdown",
   "metadata": {},
   "source": [
    "It's time to start splitting the data into training (70% of the total sets), test sets (30% of the total sets).\n",
    "While we are at it, we scale data using the minmax technique, all of our feature will range between (0 and 1) "
   ]
  },
  {
   "cell_type": "code",
   "execution_count": 25,
   "metadata": {},
   "outputs": [
    {
     "name": "stdout",
     "output_type": "stream",
     "text": [
      "             0         1        2             3\n",
      "0     0.040404  1.000000  0.00000  2.195869e-07\n",
      "1     0.000000  0.272727  0.60101  5.540559e-01\n",
      "2     0.116162  0.000000  1.00000  5.720720e-01\n",
      "3     0.148990  0.090909  0.00000  3.783781e-01\n",
      "4     0.015152  0.727273  0.00000  3.288292e-01\n",
      "...        ...       ...      ...           ...\n",
      "1047  0.308081  0.272727  1.00000  6.108348e-08\n",
      "1048  0.393939  0.727273  1.00000  2.387387e-01\n",
      "1049  0.021717  0.727273  1.00000  9.009013e-02\n",
      "1050  0.030303  0.090909  0.00000  6.936947e-01\n",
      "1051  0.148990  0.727273  0.60101  1.801802e-01\n",
      "\n",
      "[1052 rows x 4 columns]\n",
      "            0\n",
      "0     127.365\n",
      "1     132.304\n",
      "2     134.058\n",
      "3     122.086\n",
      "4     128.169\n",
      "...       ...\n",
      "1047  129.395\n",
      "1048  114.900\n",
      "1049  127.356\n",
      "1050  125.555\n",
      "1051  122.394\n",
      "\n",
      "[1052 rows x 1 columns]\n"
     ]
    }
   ],
   "source": [
    "x = np.array(data[[\"Frequency\",\"Chord length\",\"Free-stream velocity\",\"New component\"]])\n",
    "y = np.array(data[[\"Scaled sound pressure level\"]])\n",
    "x_train, x_test, y_train, y_test = train_test_split(x, y,train_size=0.70)\n",
    "scaler = MinMaxScaler()\n",
    "# transform data\n",
    "x_train = scaler.fit_transform(x_train)\n",
    "x_test = scaler.fit_transform(x_test)\n",
    "x_train = pd.DataFrame(x_train)\n",
    "y_train = pd.DataFrame(y_train)\n",
    "print(x_train)\n",
    "print(y_train)"
   ]
  },
  {
   "cell_type": "markdown",
   "metadata": {},
   "source": [
    "We rename the columns accordingly, and save each dataset into seperate files"
   ]
  },
  {
   "cell_type": "code",
   "execution_count": 26,
   "metadata": {},
   "outputs": [],
   "source": [
    "x_train = x_train.rename(columns={0: 'Frequency',1:'Chord length',2:'Free-stream velocity',3:'New component'})\n",
    "y_train = y_train.rename(columns={0:'Scaled sound pressure level'})\n",
    "x_test = pd.DataFrame(x_test)\n",
    "y_test = pd.DataFrame(y_test)\n",
    "x_test = x_test.rename(columns={0: 'Frequency',1:'Chord length',2:'Free-stream velocity',3:'New component'})\n",
    "y_test = y_test.rename(columns={0:'Scaled sound pressure level'})\n"
   ]
  },
  {
   "cell_type": "code",
   "execution_count": 27,
   "metadata": {},
   "outputs": [],
   "source": [
    "x_train.to_csv(\"/home/dark/Mywork/Nasa dataset preprocessing/Output data/trainingset.csv\")\n",
    "y_train.to_csv(\"/home/dark/Mywork/Nasa dataset preprocessing/Output data/training data pressure level.csv\")\n",
    "x_test.to_csv(\"/home/dark/Mywork/Nasa dataset preprocessing/Output data/testset.csv\")\n",
    "x_train.to_csv(\"/home/dark/Mywork/Nasa dataset preprocessing/Output data/test data pressure level.csv\")"
   ]
  }
 ],
 "metadata": {
  "kernelspec": {
   "display_name": "Python 3",
   "language": "python",
   "name": "python3"
  },
  "language_info": {
   "codemirror_mode": {
    "name": "ipython",
    "version": 3
   },
   "file_extension": ".py",
   "mimetype": "text/x-python",
   "name": "python",
   "nbconvert_exporter": "python",
   "pygments_lexer": "ipython3",
   "version": "3.8.10"
  }
 },
 "nbformat": 4,
 "nbformat_minor": 4
}
